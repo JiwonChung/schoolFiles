{
 "cells": [
  {
   "cell_type": "markdown",
   "source": [
    "빵형의 얼굴인식 copy"
   ],
   "metadata": {}
  },
  {
   "cell_type": "code",
   "execution_count": null,
   "source": [
    "import dlib, cv2\r\n",
    "import numpy as np\r\n",
    "import matplotlib.pyplot as plt\r\n",
    "import matplotlib.patches as patches\r\n",
    "import matplotlib.patheffects as path_effects\r\n",
    "\r\n",
    "detector = dlib.get_frontal_face_detector()\r\n",
    "sp = dlib.shape_predictor('models\\shape_predictor_68_face_landmarks.dat')\r\n",
    "facerec = dlib.face_recognition_model_v1('models\\dlib_face_recognition_resnet_model_v1.dat')"
   ],
   "outputs": [],
   "metadata": {}
  },
  {
   "cell_type": "code",
   "execution_count": null,
   "source": [
    "def find_faces(img): \r\n",
    "    dets = detector(img, 1)\r\n",
    "\r\n",
    "    # 얼굴을 하나도 찾지 못했을 경우 return 빈 배열 \r\n",
    "    if len(dets) == 0:\r\n",
    "        return np.empty(0), np.empty(0), np.empty(0)\r\n",
    "    \r\n",
    "    # 결과물 저장할 변수들\r\n",
    "    rects, shapes = [], []\r\n",
    "    shapes_np = np.zeros((len(dets), 68, 2), dtype=int)\r\n",
    "\r\n",
    "    for k, d in enumerate(dets): \r\n",
    "        rect = ((d.left(), d.top()), (d.right(), d.bottom()))\r\n",
    "        rects.append(rect)\r\n",
    "\r\n",
    "        # 랜드마크 구하기 \r\n",
    "        shape = sp(img, d)\r\n",
    "\r\n",
    "    # numpy array 로 바꾸기 \r\n",
    "    for i in range(0, 68): \r\n",
    "        shapes_np[k][i] = (shape.part(i).x, shape.part(i).y)\r\n",
    "\r\n",
    "    shapes.append(shape)\r\n",
    "\r\n",
    "    return rects, shapes, shapes_np\r\n",
    "\r\n",
    "# 68개의 점 -> 128개의 벡터(거리로 유사도 측정함)\r\n",
    "def encode_faces(img, shapes): \r\n",
    "    face_descriptors = []\r\n",
    "    for shape in shapes: \r\n",
    "        face_descriptor = facerec.compute_face_descriptor(img, shape)\r\n",
    "        face_descriptors.append(np.array(face_descriptor))\r\n",
    "    \r\n",
    "    return np.array(face_descriptors)"
   ],
   "outputs": [],
   "metadata": {}
  },
  {
   "cell_type": "code",
   "execution_count": null,
   "source": [
    "# 베이스가 되는 사진 \r\n",
    "img_path = {\r\n",
    "    'jiwon': 'img\\jiwon.jpg'\r\n",
    "}\r\n",
    "\r\n",
    "descs = {\r\n",
    "    'jiwon': None\r\n",
    "}\r\n",
    "\r\n",
    "for name, img_path in img_path.items(): \r\n",
    "    img_bgr = cv2.imread(img_path)\r\n",
    "    img_rgb = cv2.cvtColor(img_bgr, cv2.COLOR_BGR2RGB)\r\n",
    "\r\n",
    "    _, img_shapes, img_shapes_np = find_faces(img_rgb)\r\n",
    "    descs[name] = encode_faces(img_rgb, img_shapes)[0]\r\n",
    "\r\n",
    "np.save('img/descs.npy', descs)\r\n",
    "print(descs)"
   ],
   "outputs": [],
   "metadata": {}
  },
  {
   "cell_type": "code",
   "execution_count": null,
   "source": [
    "img_bgr = cv2.imread('img/test.jpg')\r\n",
    "img_rgb = cv2.cvtColor(img_bgr, cv2.COLOR_BGR2RGB)\r\n",
    "\r\n",
    "rects, shapes, _ = find_faces(img_rgb)\r\n",
    "descriptors = encode_faces(img_rgb, shapes)"
   ],
   "outputs": [],
   "metadata": {}
  },
  {
   "cell_type": "code",
   "execution_count": null,
   "source": [
    "# Visualize Output\r\n",
    "\r\n",
    "fig, ax = plt.subplots(1, figsize=(20, 20))\r\n",
    "ax.imshow(img_rgb)\r\n",
    "\r\n",
    "for i, desc in enumerate(descriptors):\r\n",
    "    found = False\r\n",
    "\r\n",
    "    for name, saved_desc in descs.items(): \r\n",
    "        # 유클리드 distance (벡터거리를 구하는 함수)\r\n",
    "        dist = np.linalg.norm([desc] - saved_desc, axis=1)\r\n",
    "\r\n",
    "        if dist < 0.6: \r\n",
    "            found = True\r\n",
    "\r\n",
    "            text = ax.text(rects[i][0][0], rects[i][0][1], name, \r\n",
    "                color='b', fontsize=40, fontweight='bold')\r\n",
    "            text.set_path_effects([path_effects.Stroke(linewidth=10, foreground='white'), path_effects.Normal()])\r\n",
    "            rect = patches.Rectangle(rects[i][0], \r\n",
    "                rects[i][1][1] - rects[i][0][1], rects[i][1][0] - rects[i][0][0], \r\n",
    "                linewidth=2, edgecolor = 'w', facecolor='none')\r\n",
    "            ax.add_patch(rect)\r\n",
    "            break\r\n",
    "    if not found: \r\n",
    "        ax.text(rects[i][0][0], rects[i][0][1], 'unknown', \r\n",
    "            color='r', fontsize=20, fontweight='bold')\r\n",
    "        rect = patches.Rectangle(rects[i][0], \r\n",
    "            rects[i][1][1] - rects[i][0][1], rects[i][1][0] - rects[i][0][0], \r\n",
    "            linewidth=2, edgecolor='r', facecolor='none')\r\n",
    "        ax.add_patch(rect)\r\n",
    "\r\n",
    "plt.axis('off')\r\n",
    "plt.savefig('result/output.png')\r\n",
    "plt.show()\r\n"
   ],
   "outputs": [],
   "metadata": {}
  }
 ],
 "metadata": {
  "orig_nbformat": 4,
  "language_info": {
   "name": "python",
   "version": "3.8.11",
   "mimetype": "text/x-python",
   "codemirror_mode": {
    "name": "ipython",
    "version": 3
   },
   "pygments_lexer": "ipython3",
   "nbconvert_exporter": "python",
   "file_extension": ".py"
  },
  "kernelspec": {
   "name": "python3",
   "display_name": "Python 3.8.11 64-bit ('for_pbl': conda)"
  },
  "interpreter": {
   "hash": "922d6fb62bdafb6fd9c631e5a50da4faf56f93e501bfed1a56cc096a3214b6bc"
  }
 },
 "nbformat": 4,
 "nbformat_minor": 2
}